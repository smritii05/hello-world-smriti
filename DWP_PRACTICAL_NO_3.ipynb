{
  "nbformat": 4,
  "nbformat_minor": 0,
  "metadata": {
    "colab": {
      "provenance": [],
      "include_colab_link": true
    },
    "kernelspec": {
      "name": "python3",
      "display_name": "Python 3"
    },
    "language_info": {
      "name": "python"
    }
  },
  "cells": [
    {
      "cell_type": "markdown",
      "metadata": {
        "id": "view-in-github",
        "colab_type": "text"
      },
      "source": [
        "<a href=\"https://colab.research.google.com/github/smritii05/hello-world-smriti/blob/main/DWP_PRACTICAL_NO_3.ipynb\" target=\"_parent\"><img src=\"https://colab.research.google.com/assets/colab-badge.svg\" alt=\"Open In Colab\"/></a>"
      ]
    },
    {
      "cell_type": "markdown",
      "source": [
        "**DWP PRACTICAL NO. 3: 04/01/25**"
      ],
      "metadata": {
        "id": "1ECOukIBfqxO"
      }
    },
    {
      "cell_type": "code",
      "source": [
        "# ONE HOT ENCODING, LABEL ENCODING, FREQUENCY ENCODING, ORDINAL ENCODING, MEAN ENCODING     #map, reduce, filter, lambda, apply imp functions, list comprehension\n",
        "import pandas as pd\n",
        "from sklearn.preprocessing import LabelEncoder, OneHotEncoder\n",
        "import numpy as np"
      ],
      "metadata": {
        "id": "_tPv43mfgQGs"
      },
      "execution_count": null,
      "outputs": []
    },
    {
      "cell_type": "code",
      "source": [
        "# sample data for encoding\n",
        "data = {'Color':['Red','Green','Blue','Green','Blue','Red'],\n",
        "        'Size':['S','M','L','M','L','S'],\n",
        "        'Category':['A','B','A','A','B','C']}\n",
        "\n",
        "# creating dataframe\n",
        "df = pd.DataFrame(data)\n",
        "print(\"Original Dataframe: \")\n",
        "print(df)"
      ],
      "metadata": {
        "colab": {
          "base_uri": "https://localhost:8080/"
        },
        "id": "gtNRj3tVhyHd",
        "outputId": "f052b64b-ae7e-4c64-b95b-5e4a059ba7aa"
      },
      "execution_count": null,
      "outputs": [
        {
          "output_type": "stream",
          "name": "stdout",
          "text": [
            "Original Dataframe: \n",
            "   Color Size Category\n",
            "0    Red    S        A\n",
            "1  Green    M        B\n",
            "2   Blue    L        A\n",
            "3  Green    M        A\n",
            "4   Blue    L        B\n",
            "5    Red    S        C\n"
          ]
        }
      ]
    },
    {
      "cell_type": "code",
      "source": [
        "# 1. One Hot Encoding\n",
        "one_hot = pd.get_dummies(df['Color'],dtype='int')\n",
        "df_one_hot = pd.concat([df, one_hot], axis=1)\n",
        "print(\"\\nAfter One Hot Encoding: \")\n",
        "print(df_one_hot)"
      ],
      "metadata": {
        "colab": {
          "base_uri": "https://localhost:8080/"
        },
        "id": "8nQZZXRYisFb",
        "outputId": "2a7d3848-3d2b-470f-8b60-3bfb62f95776"
      },
      "execution_count": null,
      "outputs": [
        {
          "output_type": "stream",
          "name": "stdout",
          "text": [
            "\n",
            "After One Hot Encoding: \n",
            "   Color Size Category  Blue  Green  Red\n",
            "0    Red    S        A     0      0    1\n",
            "1  Green    M        B     0      1    0\n",
            "2   Blue    L        A     1      0    0\n",
            "3  Green    M        A     0      1    0\n",
            "4   Blue    L        B     1      0    0\n",
            "5    Red    S        C     0      0    1\n"
          ]
        }
      ]
    },
    {
      "cell_type": "code",
      "source": [
        "# 2. Label Encoding\n",
        "label_encoder = LabelEncoder()\n",
        "df['Color_Label'] = label_encoder.fit_transform(df['Color'])\n",
        "df['Size_Label'] = label_encoder.fit_transform(df['Size'])\n",
        "df['Category_Label'] = label_encoder.fit_transform(df['Category'])\n",
        "print(\"\\nAfter Label Encoding: \")\n",
        "print(df[['Color','Color_Label','Size','Size_Label','Category','Category_Label']])"
      ],
      "metadata": {
        "colab": {
          "base_uri": "https://localhost:8080/"
        },
        "id": "TCN2E8rYj9As",
        "outputId": "a272ffc1-8e99-4b18-9148-14ab0e1dbdde"
      },
      "execution_count": null,
      "outputs": [
        {
          "output_type": "stream",
          "name": "stdout",
          "text": [
            "\n",
            "After Label Encoding: \n",
            "   Color  Color_Label Size  Size_Label Category  Category_Label\n",
            "0    Red            2    S           2        A               0\n",
            "1  Green            1    M           1        B               1\n",
            "2   Blue            0    L           0        A               0\n",
            "3  Green            1    M           1        A               0\n",
            "4   Blue            0    L           0        B               1\n",
            "5    Red            2    S           2        C               2\n"
          ]
        }
      ]
    },
    {
      "cell_type": "code",
      "source": [
        "# 3. Frequency Encoding\n",
        "freq_encoding = df['Category'].value_counts().to_dict()\n",
        "df['Category_Frequency'] = df['Category'].map(freq_encoding)\n",
        "print(\"\\nAfter Frequency Encoding: \")\n",
        "print(df[['Category','Category_Frequency']])"
      ],
      "metadata": {
        "colab": {
          "base_uri": "https://localhost:8080/"
        },
        "id": "y7uWqNB3lFnB",
        "outputId": "3a185447-36f7-449b-dbe7-85ba334b8525"
      },
      "execution_count": null,
      "outputs": [
        {
          "output_type": "stream",
          "name": "stdout",
          "text": [
            "\n",
            "After Frequency Encoding: \n",
            "  Category  Category_Frequency\n",
            "0        A                   3\n",
            "1        B                   2\n",
            "2        A                   3\n",
            "3        A                   3\n",
            "4        B                   2\n",
            "5        C                   1\n"
          ]
        }
      ]
    },
    {
      "cell_type": "code",
      "source": [
        "# 4. Ordinal Encoding\n",
        "# ordinal mapping based on predefined order\n",
        "ordinal_mapping = {'S':1, 'M':2, 'L':3}\n",
        "df['Size_Ordinal'] = df['Size'].map(ordinal_mapping)\n",
        "print(\"\\nAfter Ordinal Encoding: \")\n",
        "print(df[['Size','Size_Ordinal']])"
      ],
      "metadata": {
        "colab": {
          "base_uri": "https://localhost:8080/"
        },
        "id": "ln_b-jBilj9I",
        "outputId": "019a19b3-6995-4b35-aeb3-34888786f420"
      },
      "execution_count": null,
      "outputs": [
        {
          "output_type": "stream",
          "name": "stdout",
          "text": [
            "\n",
            "After Ordinal Encoding: \n",
            "  Size  Size_Ordinal\n",
            "0    S             1\n",
            "1    M             2\n",
            "2    L             3\n",
            "3    M             2\n",
            "4    L             3\n",
            "5    S             1\n"
          ]
        }
      ]
    },
    {
      "cell_type": "code",
      "source": [
        "# 5. Mean Encoding\n",
        "mean_encoding = df.groupby('Category')['Size'].apply(lambda x: x.map({'S':1,'M':2,'L':3}).mean()).to_dict()\n",
        "df['Category_Mean'] = df['Category'].map(mean_encoding)\n",
        "print(\"\\nAfter Mean Encoding: \")\n",
        "print(df[['Category','Category_Mean']])"
      ],
      "metadata": {
        "colab": {
          "base_uri": "https://localhost:8080/"
        },
        "id": "VFR8nliRm7ov",
        "outputId": "5a0b30d5-bf40-4bf7-d92d-e8fa5343b401"
      },
      "execution_count": null,
      "outputs": [
        {
          "output_type": "stream",
          "name": "stdout",
          "text": [
            "\n",
            "After Mean Encoding: \n",
            "  Category  Category_Mean\n",
            "0        A            2.0\n",
            "1        B            2.5\n",
            "2        A            2.0\n",
            "3        A            2.0\n",
            "4        B            2.5\n",
            "5        C            1.0\n"
          ]
        }
      ]
    }
  ]
}