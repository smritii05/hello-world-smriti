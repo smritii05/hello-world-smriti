{
  "nbformat": 4,
  "nbformat_minor": 0,
  "metadata": {
    "colab": {
      "provenance": [],
      "authorship_tag": "ABX9TyNshSbeNTe33DmB1vKkvo8E",
      "include_colab_link": true
    },
    "kernelspec": {
      "name": "python3",
      "display_name": "Python 3"
    },
    "language_info": {
      "name": "python"
    }
  },
  "cells": [
    {
      "cell_type": "markdown",
      "metadata": {
        "id": "view-in-github",
        "colab_type": "text"
      },
      "source": [
        "<a href=\"https://colab.research.google.com/github/smritii05/hello-world-smriti/blob/main/DWP_Practical_2.ipynb\" target=\"_parent\"><img src=\"https://colab.research.google.com/assets/colab-badge.svg\" alt=\"Open In Colab\"/></a>"
      ]
    },
    {
      "cell_type": "markdown",
      "source": [
        "**DATA WRANGLING WITH PYTHON: PRACTICAL 2 - 21/12/2024**"
      ],
      "metadata": {
        "id": "9J2U_2hP3NbE"
      }
    },
    {
      "cell_type": "markdown",
      "source": [
        "Median is used when we have outliers in the data since it gets unaffected by it. Mean is used when we have do not have outliers in the data since it gets affected by it."
      ],
      "metadata": {
        "id": "zWM6rgs03dca"
      }
    },
    {
      "cell_type": "code",
      "source": [
        "# 1. To delete missing values\n",
        "import pandas as pd\n",
        "\n",
        "# Sample DataFrame with missing values\n",
        "data = {'Age': [25, None, 30, 22, None],\n",
        "        'Gender': ['M','F','M','F',None]}\n",
        "\n",
        "df = pd.DataFrame(data)\n",
        "print(df)\n",
        "print(df.isna().sum())\n",
        "\n",
        "# Drop rows with any missing values\n",
        "df_complete_case = df.dropna()\n",
        "print(df_complete_case)"
      ],
      "metadata": {
        "colab": {
          "base_uri": "https://localhost:8080/"
        },
        "id": "ijUbtzPr3hLp",
        "outputId": "45a0050d-4a14-4e49-f66a-81d45776e5ea"
      },
      "execution_count": null,
      "outputs": [
        {
          "output_type": "stream",
          "name": "stdout",
          "text": [
            "    Age Gender\n",
            "0  25.0      M\n",
            "1   NaN      F\n",
            "2  30.0      M\n",
            "3  22.0      F\n",
            "4   NaN   None\n",
            "Age       2\n",
            "Gender    1\n",
            "dtype: int64\n",
            "    Age Gender\n",
            "0  25.0      M\n",
            "2  30.0      M\n",
            "3  22.0      F\n"
          ]
        }
      ]
    },
    {
      "cell_type": "code",
      "source": [
        "# 2. (a) Handling Missing Numerical Data (Mean or Median Imputation)\n",
        "\n",
        "# Mean Imputation\n",
        "df['Age_mean_imputed'] = df['Age'].fillna(df['Age'].mean()) #type(df['age'])\n",
        "print(df)\n",
        "\n",
        "# Median Imputation\n",
        "df['Age_median_imputed'] = df['Age'].fillna(df['Age'].median())\n",
        "print(df)"
      ],
      "metadata": {
        "colab": {
          "base_uri": "https://localhost:8080/"
        },
        "id": "iBfrCwly5nHu",
        "outputId": "b714be0a-a55f-4a4d-ea0d-7ca928504d55"
      },
      "execution_count": null,
      "outputs": [
        {
          "output_type": "stream",
          "name": "stdout",
          "text": [
            "    Age Gender  Age_mean_imputed\n",
            "0  25.0      M         25.000000\n",
            "1   NaN      F         25.666667\n",
            "2  30.0      M         30.000000\n",
            "3  22.0      F         22.000000\n",
            "4   NaN   None         25.666667\n",
            "    Age Gender  Age_mean_imputed  Age_median_imputed\n",
            "0  25.0      M         25.000000                25.0\n",
            "1   NaN      F         25.666667                25.0\n",
            "2  30.0      M         30.000000                30.0\n",
            "3  22.0      F         22.000000                22.0\n",
            "4   NaN   None         25.666667                25.0\n"
          ]
        }
      ]
    },
    {
      "cell_type": "code",
      "source": [
        "# 2. (b) End of Distribution Imputation\n",
        "# Missing values can be replaced with a value at the end of the distribution, such as the minimum or maximum value.\n",
        "\n",
        "# Replace with minimum value\n",
        "df['Age_min_imputed'] = df['Age'].fillna(df['Age'].min())\n",
        "print(df)\n",
        "\n",
        "# Replace with maximum value\n",
        "df['Age_max_imputed'] = df['Age'].fillna(df['Age'].max())\n",
        "print(df)"
      ],
      "metadata": {
        "colab": {
          "base_uri": "https://localhost:8080/"
        },
        "id": "2ClRADiq531T",
        "outputId": "42200fd0-947a-4564-d38d-f5189d30e40f"
      },
      "execution_count": null,
      "outputs": [
        {
          "output_type": "stream",
          "name": "stdout",
          "text": [
            "    Age Gender  Age_mean_imputed  Age_median_imputed  Age_min_imputed\n",
            "0  25.0      M         25.000000                25.0             25.0\n",
            "1   NaN      F         25.666667                25.0             22.0\n",
            "2  30.0      M         30.000000                30.0             30.0\n",
            "3  22.0      F         22.000000                22.0             22.0\n",
            "4   NaN   None         25.666667                25.0             22.0\n",
            "    Age Gender  Age_mean_imputed  Age_median_imputed  Age_min_imputed  \\\n",
            "0  25.0      M         25.000000                25.0             25.0   \n",
            "1   NaN      F         25.666667                25.0             22.0   \n",
            "2  30.0      M         30.000000                30.0             30.0   \n",
            "3  22.0      F         22.000000                22.0             22.0   \n",
            "4   NaN   None         25.666667                25.0             22.0   \n",
            "\n",
            "   Age_max_imputed  \n",
            "0             25.0  \n",
            "1             30.0  \n",
            "2             30.0  \n",
            "3             22.0  \n",
            "4             30.0  \n"
          ]
        }
      ]
    },
    {
      "cell_type": "code",
      "source": [
        "# 2. (c) Arbitary Value Imputation\n",
        "# You can replace missing values with a custom value, like 0 or a placeholder such as -1.\n",
        "\n",
        "df['Age_arbitary_imputed'] = df['Age'].fillna(-1)\n",
        "print(df)"
      ],
      "metadata": {
        "colab": {
          "base_uri": "https://localhost:8080/"
        },
        "id": "wgIb6lL18D9-",
        "outputId": "cbec5b2d-abbc-4579-d8c1-06d8ec6ea1a6"
      },
      "execution_count": null,
      "outputs": [
        {
          "output_type": "stream",
          "name": "stdout",
          "text": [
            "    Age Gender  Age_mean_imputed  Age_median_imputed  Age_min_imputed  \\\n",
            "0  25.0      M         25.000000                25.0             25.0   \n",
            "1   NaN      F         25.666667                25.0             22.0   \n",
            "2  30.0      M         30.000000                30.0             30.0   \n",
            "3  22.0      F         22.000000                22.0             22.0   \n",
            "4   NaN   None         25.666667                25.0             22.0   \n",
            "\n",
            "   Age_max_imputed  Age_arbitary_imputed  \n",
            "0             25.0                  25.0  \n",
            "1             30.0                  -1.0  \n",
            "2             30.0                  30.0  \n",
            "3             22.0                  22.0  \n",
            "4             30.0                  -1.0  \n"
          ]
        }
      ]
    },
    {
      "cell_type": "code",
      "source": [
        "# Frequent category imputation\n",
        "# Replace missing values in categorical coluns with the most frequent (mode) category\n",
        "\n",
        "df['Gender_frequent_imputed'] = df['Gender'].fillna(df['Gender'].mode()[0])\n",
        "print(df)"
      ],
      "metadata": {
        "colab": {
          "base_uri": "https://localhost:8080/"
        },
        "id": "3gxSRqo49i0A",
        "outputId": "14e14af6-0328-4468-a2ae-cde2bfc23951"
      },
      "execution_count": null,
      "outputs": [
        {
          "output_type": "stream",
          "name": "stdout",
          "text": [
            "    Age Gender  Age_mean_imputed  Age_median_imputed  Age_min_imputed  \\\n",
            "0  25.0      M         25.000000                25.0             25.0   \n",
            "1   NaN      F         25.666667                25.0             22.0   \n",
            "2  30.0      M         30.000000                30.0             30.0   \n",
            "3  22.0      F         22.000000                22.0             22.0   \n",
            "4   NaN   None         25.666667                25.0             22.0   \n",
            "\n",
            "   Age_max_imputed  Age_arbitary_imputed Gender_mode_imputed  \\\n",
            "0             25.0                  25.0                   M   \n",
            "1             30.0                  -1.0                   F   \n",
            "2             30.0                  30.0                   M   \n",
            "3             22.0                  22.0                   F   \n",
            "4             30.0                  -1.0                   F   \n",
            "\n",
            "  Gender_frequent_imputed  \n",
            "0                       M  \n",
            "1                       F  \n",
            "2                       M  \n",
            "3                       F  \n",
            "4                       F  \n"
          ]
        }
      ]
    }
  ]
}